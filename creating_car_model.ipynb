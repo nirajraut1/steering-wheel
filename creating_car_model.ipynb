{
 "cells": [
  {
   "cell_type": "code",
   "execution_count": 2,
   "metadata": {},
   "outputs": [],
   "source": [
    "import pandas as pd\n",
    "import numpy as np\n",
    "import matplotlib.pyplot as plt\n",
    "import tensorflow as tf\n",
    "from tensorflow.keras.models import Sequential\n",
    "from tensorflow.keras.layers import Dense, Conv2D, MaxPool2D, Flatten, Dropout\n",
    "from tensorflow.keras.preprocessing.image import ImageDataGenerator\n",
    "from sklearn.model_selection import train_test_split"
   ]
  },
  {
   "cell_type": "code",
   "execution_count": 3,
   "metadata": {},
   "outputs": [],
   "source": [
    "data_path = \"C:\\\\Users\\\\Niraj Raut\\\\OneDrive\\\\Desktop\\\\car_simulator\\\\\"\n",
    "\n",
    "# Load the driving_log.csv file into a DataFrame\n",
    "driving_log = pd.read_csv(data_path + 'driving_log.csv')\n",
    "\n",
    "# Keep only the center camera images and steering angles\n",
    "data = driving_log[['center', 'steering']]"
   ]
  },
  {
   "cell_type": "code",
   "execution_count": 4,
   "metadata": {},
   "outputs": [],
   "source": [
    "train_data, test_data = train_test_split(data, test_size=0.2)"
   ]
  },
  {
   "cell_type": "code",
   "execution_count": 5,
   "metadata": {},
   "outputs": [
    {
     "name": "stdout",
     "output_type": "stream",
     "text": [
      "Found 2723 validated image filenames.\n",
      "Found 681 validated image filenames.\n"
     ]
    }
   ],
   "source": [
    "train_datagen = ImageDataGenerator(rescale=1./255,\n",
    "                                   shear_range=0.2,\n",
    "                                   zoom_range=0.2,\n",
    "                                   horizontal_flip=True)\n",
    "\n",
    "test_datagen = ImageDataGenerator(rescale=1./255)\n",
    "\n",
    "train_generator = train_datagen.flow_from_dataframe(train_data,\n",
    "                                                    directory=data_path,\n",
    "                                                    x_col='center',\n",
    "                                                    y_col='steering',\n",
    "                                                    target_size=(160, 320),\n",
    "                                                    batch_size=32,\n",
    "                                                    class_mode='raw')\n",
    "\n",
    "test_generator = test_datagen.flow_from_dataframe(test_data,\n",
    "                                                  directory=data_path,\n",
    "                                                  x_col='center',\n",
    "                                                  y_col='steering',\n",
    "                                                  target_size=(160, 320),\n",
    "                                                  batch_size=32,\n",
    "                                                  class_mode='raw')\n"
   ]
  },
  {
   "cell_type": "code",
   "execution_count": 6,
   "metadata": {},
   "outputs": [],
   "source": [
    "def create_model():\n",
    "    model = Sequential()\n",
    "    model.add(Conv2D(32, kernel_size=(3, 3), activation='relu', input_shape=(160, 320, 3)))\n",
    "    model.add(MaxPool2D(pool_size=(2, 2)))\n",
    "    model.add(Conv2D(64, kernel_size=(3, 3), activation='relu'))\n",
    "    model.add(MaxPool2D(pool_size=(2, 2)))\n",
    "    model.add(Flatten())\n",
    "    model.add(Dense(128, activation='relu'))\n",
    "    model.add(Dropout(0.5))\n",
    "    model.add(Dense(1, activation='linear'))\n",
    "    return model"
   ]
  },
  {
   "cell_type": "code",
   "execution_count": 7,
   "metadata": {},
   "outputs": [],
   "source": [
    "model = create_model()"
   ]
  },
  {
   "cell_type": "code",
   "execution_count": 8,
   "metadata": {},
   "outputs": [],
   "source": [
    "model.compile(optimizer='adam', loss='mean_squared_error')"
   ]
  },
  {
   "cell_type": "code",
   "execution_count": 9,
   "metadata": {},
   "outputs": [
    {
     "name": "stdout",
     "output_type": "stream",
     "text": [
      "Epoch 1/10\n",
      "85/85 [==============================] - 230s 3s/step - loss: 20.9271 - val_loss: 0.2042\n",
      "Epoch 2/10\n",
      "85/85 [==============================] - 180s 2s/step - loss: 0.1983 - val_loss: 0.2056\n",
      "Epoch 3/10\n",
      "85/85 [==============================] - 78s 900ms/step - loss: 0.2010 - val_loss: 0.2045\n",
      "Epoch 4/10\n",
      "85/85 [==============================] - 73s 862ms/step - loss: 0.1996 - val_loss: 0.2057\n",
      "Epoch 5/10\n",
      "85/85 [==============================] - 79s 925ms/step - loss: 0.2005 - val_loss: 0.2051\n",
      "Epoch 6/10\n",
      "85/85 [==============================] - 80s 943ms/step - loss: 0.2006 - val_loss: 0.2011\n",
      "Epoch 7/10\n",
      "85/85 [==============================] - 80s 941ms/step - loss: 0.2000 - val_loss: 0.2030\n",
      "Epoch 8/10\n",
      "85/85 [==============================] - 83s 977ms/step - loss: 0.2005 - val_loss: 0.2032\n",
      "Epoch 9/10\n",
      "85/85 [==============================] - 86s 1s/step - loss: 0.2011 - val_loss: 0.2068\n",
      "Epoch 10/10\n",
      "85/85 [==============================] - 87s 1s/step - loss: 0.2002 - val_loss: 0.2043\n"
     ]
    }
   ],
   "source": [
    "# Train the model\n",
    "history = model.fit(train_generator,\n",
    "                    steps_per_epoch=len(train_data)//32,\n",
    "                    epochs=10,\n",
    "                    validation_data=test_generator,\n",
    "                    validation_steps=len(test_data)//32)"
   ]
  },
  {
   "cell_type": "code",
   "execution_count": 10,
   "metadata": {},
   "outputs": [
    {
     "name": "stdout",
     "output_type": "stream",
     "text": [
      "21/21 [==============================] - 4s 191ms/step - loss: 0.2039\n",
      "Test loss:  0.2038845717906952\n"
     ]
    }
   ],
   "source": [
    "# Test the model\n",
    "loss = model.evaluate(test_generator, steps=len(test_data)//32)\n",
    "print(\"Test loss: \", loss)"
   ]
  },
  {
   "cell_type": "code",
   "execution_count": 11,
   "metadata": {},
   "outputs": [],
   "source": [
    "model.save('model.h5')"
   ]
  },
  {
   "cell_type": "code",
   "execution_count": 13,
   "metadata": {},
   "outputs": [
    {
     "name": "stdout",
     "output_type": "stream",
     "text": [
      "Predicted steering angle: 0.00018913487\n"
     ]
    }
   ],
   "source": [
    "# Load the trained model\n",
    "model = tf.keras.models.load_model('model.h5')\n",
    "\n",
    "# Load and preprocess the image\n",
    "img_path = \"C:\\\\Users\\\\Niraj Raut\\\\OneDrive\\\\Desktop\\\\car_simulator\\\\self_driving_car_dataset_jungle\\\\IMG\\\\center_2022_04_10_12_44_27_913.jpg\"\n",
    "\n",
    "img = tf.keras.preprocessing.image.load_img(img_path, target_size=(160, 320))\n",
    "img_array = tf.keras.preprocessing.image.img_to_array(img)\n",
    "img_array = np.expand_dims(img_array, axis=0)\n",
    "img_array = img_array / 255.\n",
    "\n",
    "# Make the prediction\n",
    "steering_angle = model.predict(img_array)[0][0]\n",
    "\n",
    "print(\"Predicted steering angle:\", steering_angle)\n"
   ]
  }
 ],
 "metadata": {
  "kernelspec": {
   "display_name": "Python 3",
   "language": "python",
   "name": "python3"
  },
  "language_info": {
   "codemirror_mode": {
    "name": "ipython",
    "version": 3
   },
   "file_extension": ".py",
   "mimetype": "text/x-python",
   "name": "python",
   "nbconvert_exporter": "python",
   "pygments_lexer": "ipython3",
   "version": "3.9.0"
  },
  "orig_nbformat": 4
 },
 "nbformat": 4,
 "nbformat_minor": 2
}
